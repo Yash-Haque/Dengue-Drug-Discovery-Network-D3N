{
 "cells": [
  {
   "cell_type": "markdown",
   "metadata": {},
   "source": [
    "The purpose of this Jupyter Notebook belongs to the ETL collection of notebooks from D3N which serves the purpose of extracting abstracts and splitting them to groups of sentences from raw-unstructured .txt file. "
   ]
  },
  {
   "cell_type": "markdown",
   "metadata": {},
   "source": [
    "# Imports"
   ]
  },
  {
   "cell_type": "code",
   "execution_count": 1,
   "metadata": {},
   "outputs": [
    {
     "name": "stderr",
     "output_type": "stream",
     "text": [
      "[nltk_data] Downloading package punkt to\n",
      "[nltk_data]     C:\\Users\\User\\AppData\\Roaming\\nltk_data...\n",
      "[nltk_data]   Package punkt is already up-to-date!\n"
     ]
    }
   ],
   "source": [
    "import logging\n",
    "import sys\n",
    "\n",
    "import pandas as pd\n",
    "import numpy as np\n",
    "import random\n",
    "import re\n",
    "\n",
    "import nltk\n",
    "nltk.download('punkt')\n",
    "\n",
    "import spacy\n",
    "from tqdm import tqdm\n",
    "import os"
   ]
  },
  {
   "cell_type": "markdown",
   "metadata": {},
   "source": [
    "## Setting-Up Pipeline"
   ]
  },
  {
   "cell_type": "code",
   "execution_count": 3,
   "metadata": {},
   "outputs": [
    {
     "name": "stdout",
     "output_type": "stream",
     "text": [
      "2025-02-22 16:05:08,893 - root - INFO - Program started\n"
     ]
    }
   ],
   "source": [
    "def setup_logging(log_level=logging.INFO, log_file='app.log'):\n",
    "    \"\"\"Setup logging configuration.\n",
    "\n",
    "    Args:\n",
    "        log_level (int): Logging level (default is logging.INFO).\n",
    "        log_file (str): Log file name (default is 'app.log').\n",
    "    \"\"\"\n",
    "    # Create a custom logger\n",
    "    logger = logging.getLogger()\n",
    "    logger.setLevel(log_level)\n",
    "\n",
    "    # Create handlers\n",
    "    c_handler = logging.StreamHandler(sys.stdout)\n",
    "    f_handler = logging.FileHandler(log_file)\n",
    "    c_handler.setLevel(log_level)\n",
    "    f_handler.setLevel(log_level)\n",
    "\n",
    "    # Create formatters and add them to the handlers\n",
    "    c_format = logging.Formatter('%(asctime)s - %(name)s - %(levelname)s - %(message)s')\n",
    "    f_format = logging.Formatter('%(asctime)s - %(name)s - %(levelname)s - %(message)s')\n",
    "    c_handler.setFormatter(c_format)\n",
    "    f_handler.setFormatter(f_format)\n",
    "\n",
    "    # Add handlers to the logger\n",
    "    logger.addHandler(c_handler)\n",
    "    logger.addHandler(f_handler)\n",
    "\n",
    "def log_variable(name, value):\n",
    "    \"\"\"Log the value of a variable.\n",
    "\n",
    "    Args:\n",
    "        name (str): Name of the variable.\n",
    "        value (any): Value of the variable.\n",
    "    \"\"\"\n",
    "    logging.info(f'{name}: {value}')\n",
    "\n",
    "setup_logging()\n",
    "\n",
    "logging.info(\"Program started\")"
   ]
  },
  {
   "cell_type": "markdown",
   "metadata": {},
   "source": [
    "### Initializing Spacy Language Model"
   ]
  },
  {
   "cell_type": "code",
   "execution_count": null,
   "metadata": {},
   "outputs": [
    {
     "name": "stderr",
     "output_type": "stream",
     "text": [
      "d:\\Miniconda\\envs\\d3n\\Lib\\site-packages\\spacy\\language.py:2195: FutureWarning: Possible set union at position 6328\n",
      "  deserializers[\"tokenizer\"] = lambda p: self.tokenizer.from_disk(  # type: ignore[union-attr]\n"
     ]
    },
    {
     "name": "stdout",
     "output_type": "stream",
     "text": [
      "Model loaded successfully\n",
      "Num of GPUs available: 1\n"
     ]
    }
   ],
   "source": [
    "try:\n",
    "    nlp = spacy.load(\"en_core_sci_sm\") \n",
    "    print(\"Model loaded successfully\")\n",
    "except Exception as e:\n",
    "    print(f\"Error loading the model: {e}\")  \n",
    "    \n",
    "import torch\n",
    "\n",
    "if torch.cuda.is_available():\n",
    "    num_gpus = torch.cuda.device_count()\n",
    "    print(f\"Num of GPUs available: {num_gpus}\")\n",
    "    torch.cuda.set_device(0)\n",
    "else:\n",
    "    print(\"Cuda not available\")"
   ]
  },
  {
   "cell_type": "markdown",
   "metadata": {},
   "source": [
    "## Helper Funtions"
   ]
  },
  {
   "cell_type": "code",
   "execution_count": 5,
   "metadata": {},
   "outputs": [],
   "source": [
    "def extract_pubmed_data(file_path):\n",
    "    \"\"\"\n",
    "    Explores the .txt data to create a list of dictionaries where each dictionary \n",
    "    represents an individual abstract. (Suitable for Pubmed Abstract Extracts)\n",
    "    param: file_path: String\n",
    "    returns: extracted_data: List[Dict[str,str]]\n",
    "    \"\"\"\n",
    "    extracted_data = []\n",
    "    with open(file_path, 'r') as file:\n",
    "        article = {}\n",
    "        current_field = None\n",
    "        for line in file:\n",
    "            line = line.rstrip()\n",
    "            if line.startswith('PMID- '):\n",
    "                if article:\n",
    "                    extracted_data.append(article)\n",
    "                article = {'PMID': line.split('PMID- ')[1].strip()}\n",
    "                current_field = None\n",
    "            elif line.startswith('TI  - '):\n",
    "                article['Title'] = line.split('TI  - ')[1].strip()\n",
    "                current_field = 'Title'\n",
    "            elif line.startswith('AB  - '):\n",
    "                article['Abstract'] = line.split('AB  - ')[1].strip()\n",
    "                current_field = 'Abstract'\n",
    "            elif line.startswith('DP  - '):\n",
    "                article['Date of Publication'] = line.split('DP  - ')[1].strip()\n",
    "                current_field = None\n",
    "            elif line.startswith('MH  - '):\n",
    "                if 'MeSH' not in article:\n",
    "                    article['MeSH'] = []\n",
    "                article['MeSH'].append(line.split('MH  - ')[1].strip())\n",
    "                current_field = 'MeSH'\n",
    "            elif current_field == 'Abstract' and line.startswith('      '):\n",
    "                article['Abstract'] += ' ' + line.strip()\n",
    "            elif current_field == 'Title' and line.startswith('      '):\n",
    "                article['Title'] += ' ' + line.strip()\n",
    "        if article:\n",
    "            extracted_data.append(article)\n",
    "    return extracted_data\n",
    "\n",
    "def segmenter(text, pmid, i=0):\n",
    "    \"\"\"Returns a list of segmented sentences, and a specific dataframe.\n",
    "\n",
    "    params: text (str): An abstract.\n",
    "            pmid (int): The id of the abstract.\n",
    "            i (int) : An iterable with a default value of 0.\n",
    "    Returns: data (dict): {'pmid', 'sentence_no','sentence'}\n",
    "             sentences (list)\n",
    "    \"\"\"\n",
    "    doc = nlp(text)\n",
    "    sentences = [s.text.strip() for s in doc.sents]\n",
    "    data = []\n",
    "    for sentence in sentences:\n",
    "        sent_data = {'pmid':pmid, 'sent_no':i, 'sentence':sentence}\n",
    "        data.append(sent_data) \n",
    "        i += 1\n",
    "    return sentences, data\n",
    "\n",
    "def segment_sentences(samples: pd.DataFrame, output_path: str):\n",
    "    sentences = []\n",
    "    samples[\"sentences_list\"] = None\n",
    "    samples = samples.dropna(subset=['Abstract'])\n",
    "    samples.reset_index(drop=True, inplace=True)\n",
    "    for idx, row in tqdm(samples.iterrows(), total=len(samples), desc=\"Segmenting Sentences\"):\n",
    "        abstract = row['Abstract']\n",
    "        segmented_sentences,data = segmenter(text = abstract,pmid=row[\"PMID\"])\n",
    "        for s in data:\n",
    "            sentences.append(s)\n",
    "        samples.at[idx, 'sentences_list'] = segmented_sentences\n",
    "        \n",
    "    \n",
    "    subset_df = pd.DataFrame(sentences)\n",
    "    samples.to_csv(f\"{output_path}unsegmented_unfiltered.csv\",index=False)\n",
    "    subset_df = subset_df.reset_index()\n",
    "    subset_df.to_csv(f\"{output_path}segmented_unfiltered.csv\",index=False)\n",
    "    return subset_df"
   ]
  },
  {
   "cell_type": "markdown",
   "metadata": {},
   "source": [
    "# Implementation"
   ]
  },
  {
   "cell_type": "code",
   "execution_count": 6,
   "metadata": {},
   "outputs": [
    {
     "name": "stdout",
     "output_type": "stream",
     "text": [
      "Shape of Dataframe: (10000, 5)\n"
     ]
    },
    {
     "data": {
      "application/vnd.microsoft.datawrangler.viewer.v0+json": {
       "columns": [
        {
         "name": "index",
         "rawType": "int64",
         "type": "integer"
        },
        {
         "name": "PMID",
         "rawType": "object",
         "type": "string"
        },
        {
         "name": "Date of Publication",
         "rawType": "object",
         "type": "string"
        },
        {
         "name": "Title",
         "rawType": "object",
         "type": "string"
        },
        {
         "name": "Abstract",
         "rawType": "object",
         "type": "string"
        },
        {
         "name": "MeSH",
         "rawType": "object",
         "type": "unknown"
        }
       ],
       "conversionMethod": "pd.DataFrame",
       "ref": "dc2f39ec-d9de-4353-aa39-1a877a27f397",
       "rows": [
        [
         "0",
         "19822889",
         "2009 Oct",
         "Dengue virus pathogenesis: an integrated view.",
         "Much remains to be learned about the pathogenesis of the different manifestations of dengue virus (DENV) infections in humans. They may range from subclinical infection to dengue fever, dengue hemorrhagic fever (DHF), and eventually dengue shock syndrome (DSS). As both cell tropism and tissue tropism of DENV are considered major determinants in the pathogenesis of dengue, there is a critical need for adequate tropism assays, animal models, and human autopsy data. More than 50 years of research on dengue has resulted in a host of literature, which strongly suggests that the pathogenesis of DHF and DSS involves viral virulence factors and detrimental host responses, collectively resulting in abnormal hemostasis and increased vascular permeability. Differential targeting of specific vascular beds is likely to trigger the localized vascular hyperpermeability underlying DSS. A personalized approach to the study of pathogenesis will elucidate the basis of individual risk for development of DHF and DSS as well as identify the genetic and environmental bases for differences in risk for development of severe disease. b.martina@erasmusmc.nl",
         "['Dengue/pathology/*virology', 'Dengue Virus/pathogenicity/*physiology', 'Humans']"
        ],
        [
         "1",
         "30301880",
         "2018 Oct 10",
         "Dengue virus and the host innate immune response.",
         "Dengue virus (DENV) is a mosquito-borne Flavivirus that is endemic in many tropical and sub-tropical countries where the transmission vectors Aedes spp. mosquitoes resides. There are four serotypes of the virus. Each serotype is antigenically different, meaning they elicit heterologous antibodies. Infection with one serotype will create neutralizing antibodies to the serotype. Cross-protection from other serotypes is not long term, instead heterotypic infection can cause severe disease. This review will focus on the innate immune response to DENV infection and the virus evasion of the innate immune system by escaping recognition or inhibiting the production of an antiviral state. Activated innate immune pathways includes type I interferon, complement, apoptosis, and autophagy, which the virus can evade or exploit to exacerbate disease. It is important to understand out how the immune system reacts to infection and how the virus evades immune response in order to develop effective antivirals and vaccines. tedross@uga.edu. tedross@uga.edu.",
         "['Animals', 'Antibodies, Viral/immunology', 'Dengue/genetics/*immunology/virology', 'Dengue Virus/genetics/*immunology/physiology', 'Humans', '*Immunity, Innate']"
        ],
        [
         "2",
         "34696397",
         "2021 Sep 30",
         "Dengue Virus Infection: A Tale of Viral Exploitations and Host Responses.",
         "Dengue is a mosquito-borne viral disease (arboviral) caused by the Dengue virus. It is one of the prominent public health problems in tropical and subtropical regions with no effective vaccines. Every year around 400 million people get infected by the Dengue virus, with a mortality rate of about 20% among the patients with severe dengue. The Dengue virus belongs to the Flaviviridae family, and it is an enveloped virus with positive-sense single-stranded RNA as the genetic material. Studies of the infection cycle of this virus revealed potential host targets important for the virus replication cycle. Here in this review article, we will be discussing different stages of the Dengue virus infection cycle inside mammalian host cells and how host proteins are exploited by the virus in the course of infection as well as how the host counteracts the virus by eliciting different antiviral responses. India. India. School, Ann Arbor, MI 48109, USA. India.",
         "['Antibodies, Viral/immunology', 'Dengue/*metabolism/virology', 'Dengue Virus/genetics/*metabolism/pathogenicity', 'Host Microbial Interactions/genetics/physiology', 'Humans', 'Life Cycle Stages/genetics/physiology', 'RNA, Viral/genetics', 'Virus Replication/*genetics']"
        ],
        [
         "3",
         "32751561",
         "2020 Jul 30",
         "Dengue: A Minireview.",
         "Dengue, caused by infection of any of four dengue virus serotypes (DENV-1 to DENV-4), is a mosquito-borne disease of major public health concern associated with significant morbidity, mortality, and economic cost, particularly in developing countries. Dengue incidence has increased 30-fold in the last 50 years and over 50% of the world's population, in more than 100 countries, live in areas at risk of DENV infection. We reviews DENV biology, epidemiology, transmission dynamics including circulating serotypes and genotypes, the immune response, the pathogenesis of the disease as well as updated diagnostic methods, treatments, vector control and vaccine developments. Aceh 23111, Indonesia. Aceh, Aceh 23111, Indonesia. Aceh 23111, Indonesia. 6009, Australia. 6009, Australia. 6009, Australia.",
         "['Aedes/virology', 'Animals', '*Dengue/epidemiology/immunology/therapy/virology', 'Dengue Vaccines', '*Dengue Virus/chemistry/genetics/physiology/ultrastructure', 'Genome, Viral', 'Genotype', 'Humans', 'Mosquito Control', 'Mosquito Vectors/virology', 'Virus Replication']"
        ],
        [
         "4",
         "27213782",
         "2016",
         "Meta-Analysis of Dengue Severity during Infection by Different Dengue Virus Serotypes in Primary and Secondary Infections.",
         "INTRODUCTION: Dengue virus (DENV) infection is currently a major cause of morbidity and mortality in the world; it has become more common and virulent over the past half-century and has gained much attention. Thus, this review compared the percentage of severe cases of both primary and secondary infections with different serotypes of dengue virus. METHODS: Data related to the number of cases involving dengue fever (DF), dengue hemorrhagic fever (DHF), dengue shock syndrome (DSS) or severe dengue infections caused by different serotypes of dengue virus were obtained by using the SCOPUS, the PUBMED and the OVID search engines with the keywords \"(dengue* OR dengue virus*) AND (severe dengue* OR severity of illness index* OR severity* OR DF* OR DHF* OR DSS*) AND (serotypes* OR serogroup*)\", according to the MESH terms suggested by PUBMED and OVID. RESULTS: Approximately 31 studies encompassing 15,741 cases reporting on the dengue serotypes together with their severity were obtained, and meta-analysis was carried out to analyze the data. This study found that DENV-3 from the Southeast Asia (SEA) region displayed the greatest percentage of severe cases in primary infection (95% confidence interval (CI), 31.22-53.67, 9 studies, n = 598, I2 = 71.53%), whereas DENV-2, DENV-3, and DENV-4 from the SEA region, as well as DENV-2 and DENV-3 from non-SEA regions, exhibited the greatest percentage of severe cases in secondary infection (95% CI, 11.64-80.89, 4-14 studies, n = 668-3,149, I2 = 14.77-96.20%). Moreover, DENV-2 and DENV-4 from the SEA region had been found to be more highly associated with dengue shock syndrome (DSS) (95% CI, 10.47-40.24, 5-8 studies, n = 642-2,530, I2 = 76.93-97.70%), while DENV-3 and DENV-4 from the SEA region were found to be more highly associated with dengue hemorrhagic fever (DHF) (95% CI, 31.86-54.58, 9 studies, n = 674-2,278, I2 = 55.74-88.47%), according to the 1997 WHO dengue classification. Finally, DENV-2 and DENV-4 from the SEA region were discovered to be more highly associated with secondary infection compared to other serotypes (95% CI, 72.01-96.32, 9-12 studies, n = 671-2,863, I2 = 25.01-96.75%). CONCLUSION: This study provides evidence that the presence of certain serotypes, including primary infection with DENV-3 from the SEA region and secondary infection with DENV-2, DENV-3, and DENV-4 also from the SEA region, as well as DENV-2 and DENV-3 from non SEA regions, increased the risk of severe dengue infections. Thus, these serotypes are worthy of special consideration when making clinical predictions upon the severity of the infection. SYSTEMATIC REVIEW REGISTRATION: PROSPERO CRD42015026093 (http://www.crd.york.ac.uk/PROSPERO). Sciences, Universiti Putra Malaysia, Serdang, Selangor, Malaysia. Malaysia, Serdang, Selangor, Malaysia. Universiti Putra Malaysia, Serdang, Selangor, Malaysia. Malaysia. Sciences, Universiti Putra Malaysia, Serdang, Selangor, Malaysia.",
         "['Dengue/*virology', 'Dengue Virus/*classification/genetics/immunology', 'Humans', 'Molecular Typing', 'Recurrence', 'Serogroup', 'Severe Dengue/*virology', 'Severity of Illness Index']"
        ]
       ],
       "shape": {
        "columns": 5,
        "rows": 5
       }
      },
      "text/html": [
       "<div>\n",
       "<style scoped>\n",
       "    .dataframe tbody tr th:only-of-type {\n",
       "        vertical-align: middle;\n",
       "    }\n",
       "\n",
       "    .dataframe tbody tr th {\n",
       "        vertical-align: top;\n",
       "    }\n",
       "\n",
       "    .dataframe thead th {\n",
       "        text-align: right;\n",
       "    }\n",
       "</style>\n",
       "<table border=\"1\" class=\"dataframe\">\n",
       "  <thead>\n",
       "    <tr style=\"text-align: right;\">\n",
       "      <th></th>\n",
       "      <th>PMID</th>\n",
       "      <th>Date of Publication</th>\n",
       "      <th>Title</th>\n",
       "      <th>Abstract</th>\n",
       "      <th>MeSH</th>\n",
       "    </tr>\n",
       "  </thead>\n",
       "  <tbody>\n",
       "    <tr>\n",
       "      <th>0</th>\n",
       "      <td>19822889</td>\n",
       "      <td>2009 Oct</td>\n",
       "      <td>Dengue virus pathogenesis: an integrated view.</td>\n",
       "      <td>Much remains to be learned about the pathogene...</td>\n",
       "      <td>[Dengue/pathology/*virology, Dengue Virus/path...</td>\n",
       "    </tr>\n",
       "    <tr>\n",
       "      <th>1</th>\n",
       "      <td>30301880</td>\n",
       "      <td>2018 Oct 10</td>\n",
       "      <td>Dengue virus and the host innate immune response.</td>\n",
       "      <td>Dengue virus (DENV) is a mosquito-borne Flaviv...</td>\n",
       "      <td>[Animals, Antibodies, Viral/immunology, Dengue...</td>\n",
       "    </tr>\n",
       "    <tr>\n",
       "      <th>2</th>\n",
       "      <td>34696397</td>\n",
       "      <td>2021 Sep 30</td>\n",
       "      <td>Dengue Virus Infection: A Tale of Viral Exploi...</td>\n",
       "      <td>Dengue is a mosquito-borne viral disease (arbo...</td>\n",
       "      <td>[Antibodies, Viral/immunology, Dengue/*metabol...</td>\n",
       "    </tr>\n",
       "    <tr>\n",
       "      <th>3</th>\n",
       "      <td>32751561</td>\n",
       "      <td>2020 Jul 30</td>\n",
       "      <td>Dengue: A Minireview.</td>\n",
       "      <td>Dengue, caused by infection of any of four den...</td>\n",
       "      <td>[Aedes/virology, Animals, *Dengue/epidemiology...</td>\n",
       "    </tr>\n",
       "    <tr>\n",
       "      <th>4</th>\n",
       "      <td>27213782</td>\n",
       "      <td>2016</td>\n",
       "      <td>Meta-Analysis of Dengue Severity during Infect...</td>\n",
       "      <td>INTRODUCTION: Dengue virus (DENV) infection is...</td>\n",
       "      <td>[Dengue/*virology, Dengue Virus/*classificatio...</td>\n",
       "    </tr>\n",
       "  </tbody>\n",
       "</table>\n",
       "</div>"
      ],
      "text/plain": [
       "       PMID Date of Publication  \\\n",
       "0  19822889            2009 Oct   \n",
       "1  30301880         2018 Oct 10   \n",
       "2  34696397         2021 Sep 30   \n",
       "3  32751561         2020 Jul 30   \n",
       "4  27213782                2016   \n",
       "\n",
       "                                               Title  \\\n",
       "0     Dengue virus pathogenesis: an integrated view.   \n",
       "1  Dengue virus and the host innate immune response.   \n",
       "2  Dengue Virus Infection: A Tale of Viral Exploi...   \n",
       "3                              Dengue: A Minireview.   \n",
       "4  Meta-Analysis of Dengue Severity during Infect...   \n",
       "\n",
       "                                            Abstract  \\\n",
       "0  Much remains to be learned about the pathogene...   \n",
       "1  Dengue virus (DENV) is a mosquito-borne Flaviv...   \n",
       "2  Dengue is a mosquito-borne viral disease (arbo...   \n",
       "3  Dengue, caused by infection of any of four den...   \n",
       "4  INTRODUCTION: Dengue virus (DENV) infection is...   \n",
       "\n",
       "                                                MeSH  \n",
       "0  [Dengue/pathology/*virology, Dengue Virus/path...  \n",
       "1  [Animals, Antibodies, Viral/immunology, Dengue...  \n",
       "2  [Antibodies, Viral/immunology, Dengue/*metabol...  \n",
       "3  [Aedes/virology, Animals, *Dengue/epidemiology...  \n",
       "4  [Dengue/*virology, Dengue Virus/*classificatio...  "
      ]
     },
     "execution_count": 6,
     "metadata": {},
     "output_type": "execute_result"
    }
   ],
   "source": [
    "# Create List of Dictionaries\n",
    "file_path = \"D:/CSE498R_Resources/D3N/Dengue-Drug-Discovery-Network-D3N/Data/input/pubmed-DENV-10k-abstracts.txt\"\n",
    "output_path = \"D:/CSE498R_Resources/D3N/Dengue-Drug-Discovery-Network-D3N/Data/output/unfiltered/\"\n",
    "\n",
    "if not os.path.exists(output_path):\n",
    "    os.makedirs(output_path)\n",
    "data = extract_pubmed_data(file_path)\n",
    "\n",
    "# Convert List of dicts to a dataframe\n",
    "df = pd.DataFrame(data)\n",
    "print(f\"Shape of Dataframe: {df.shape}\")\n",
    "df.head()"
   ]
  },
  {
   "cell_type": "code",
   "execution_count": null,
   "metadata": {},
   "outputs": [
    {
     "name": "stdout",
     "output_type": "stream",
     "text": [
      "Shape of Dataframe: (10000, 5)\n",
      "Random Row: PMID                                                            18705473\n",
      "Date of Publication                                             2007 Dec\n",
      "Title                  Predictive value of thrombocytopaenia in the d...\n",
      "Abstract               Thrombocytopaenia is often relied upon as an i...\n",
      "MeSH                   [Adult, Blood Pressure Monitoring, Ambulatory,...\n",
      "Name: 6482, dtype: object\n"
     ]
    }
   ],
   "source": [
    "# Creating a sample of first 1000 rows from the dataframe\n",
    "sample = df\n",
    "print(f\"Shape of Dataframe: {sample.shape}\")\n",
    "random_row = sample.iloc[random.randint(0, len(sample) - 1)]\n",
    "print(f\"Random Row: \\n{random_row}\")"
   ]
  },
  {
   "cell_type": "code",
   "execution_count": 8,
   "metadata": {},
   "outputs": [
    {
     "data": {
      "application/vnd.microsoft.datawrangler.viewer.v0+json": {
       "columns": [
        {
         "name": "index",
         "rawType": "int64",
         "type": "integer"
        },
        {
         "name": "PMID",
         "rawType": "object",
         "type": "string"
        },
        {
         "name": "Date of Publication",
         "rawType": "object",
         "type": "string"
        },
        {
         "name": "Title",
         "rawType": "object",
         "type": "string"
        },
        {
         "name": "Abstract",
         "rawType": "object",
         "type": "string"
        },
        {
         "name": "MeSH",
         "rawType": "object",
         "type": "unknown"
        }
       ],
       "conversionMethod": "pd.DataFrame",
       "ref": "e79f0294-3160-429e-9ee3-a90d9d89f82d",
       "rows": [
        [
         "0",
         "19822889",
         "2009 Oct",
         "Dengue virus pathogenesis: an integrated view.",
         "Much remains to be learned about the pathogenesis of the different manifestations of dengue virus (DENV) infections in humans. They may range from subclinical infection to dengue fever, dengue hemorrhagic fever (DHF), and eventually dengue shock syndrome (DSS). As both cell tropism and tissue tropism of DENV are considered major determinants in the pathogenesis of dengue, there is a critical need for adequate tropism assays, animal models, and human autopsy data. More than 50 years of research on dengue has resulted in a host of literature, which strongly suggests that the pathogenesis of DHF and DSS involves viral virulence factors and detrimental host responses, collectively resulting in abnormal hemostasis and increased vascular permeability. Differential targeting of specific vascular beds is likely to trigger the localized vascular hyperpermeability underlying DSS. A personalized approach to the study of pathogenesis will elucidate the basis of individual risk for development of DHF and DSS as well as identify the genetic and environmental bases for differences in risk for development of severe disease. b.martina@erasmusmc.nl",
         "['Dengue/pathology/*virology', 'Dengue Virus/pathogenicity/*physiology', 'Humans']"
        ],
        [
         "1",
         "30301880",
         "2018 Oct 10",
         "Dengue virus and the host innate immune response.",
         "Dengue virus (DENV) is a mosquito-borne Flavivirus that is endemic in many tropical and sub-tropical countries where the transmission vectors Aedes spp. mosquitoes resides. There are four serotypes of the virus. Each serotype is antigenically different, meaning they elicit heterologous antibodies. Infection with one serotype will create neutralizing antibodies to the serotype. Cross-protection from other serotypes is not long term, instead heterotypic infection can cause severe disease. This review will focus on the innate immune response to DENV infection and the virus evasion of the innate immune system by escaping recognition or inhibiting the production of an antiviral state. Activated innate immune pathways includes type I interferon, complement, apoptosis, and autophagy, which the virus can evade or exploit to exacerbate disease. It is important to understand out how the immune system reacts to infection and how the virus evades immune response in order to develop effective antivirals and vaccines. tedross@uga.edu. tedross@uga.edu.",
         "['Animals', 'Antibodies, Viral/immunology', 'Dengue/genetics/*immunology/virology', 'Dengue Virus/genetics/*immunology/physiology', 'Humans', '*Immunity, Innate']"
        ],
        [
         "2",
         "34696397",
         "2021 Sep 30",
         "Dengue Virus Infection: A Tale of Viral Exploitations and Host Responses.",
         "Dengue is a mosquito-borne viral disease (arboviral) caused by the Dengue virus. It is one of the prominent public health problems in tropical and subtropical regions with no effective vaccines. Every year around 400 million people get infected by the Dengue virus, with a mortality rate of about 20% among the patients with severe dengue. The Dengue virus belongs to the Flaviviridae family, and it is an enveloped virus with positive-sense single-stranded RNA as the genetic material. Studies of the infection cycle of this virus revealed potential host targets important for the virus replication cycle. Here in this review article, we will be discussing different stages of the Dengue virus infection cycle inside mammalian host cells and how host proteins are exploited by the virus in the course of infection as well as how the host counteracts the virus by eliciting different antiviral responses. India. India. School, Ann Arbor, MI 48109, USA. India.",
         "['Antibodies, Viral/immunology', 'Dengue/*metabolism/virology', 'Dengue Virus/genetics/*metabolism/pathogenicity', 'Host Microbial Interactions/genetics/physiology', 'Humans', 'Life Cycle Stages/genetics/physiology', 'RNA, Viral/genetics', 'Virus Replication/*genetics']"
        ],
        [
         "3",
         "32751561",
         "2020 Jul 30",
         "Dengue: A Minireview.",
         "Dengue, caused by infection of any of four dengue virus serotypes (DENV-1 to DENV-4), is a mosquito-borne disease of major public health concern associated with significant morbidity, mortality, and economic cost, particularly in developing countries. Dengue incidence has increased 30-fold in the last 50 years and over 50% of the world's population, in more than 100 countries, live in areas at risk of DENV infection. We reviews DENV biology, epidemiology, transmission dynamics including circulating serotypes and genotypes, the immune response, the pathogenesis of the disease as well as updated diagnostic methods, treatments, vector control and vaccine developments. Aceh 23111, Indonesia. Aceh, Aceh 23111, Indonesia. Aceh 23111, Indonesia. 6009, Australia. 6009, Australia. 6009, Australia.",
         "['Aedes/virology', 'Animals', '*Dengue/epidemiology/immunology/therapy/virology', 'Dengue Vaccines', '*Dengue Virus/chemistry/genetics/physiology/ultrastructure', 'Genome, Viral', 'Genotype', 'Humans', 'Mosquito Control', 'Mosquito Vectors/virology', 'Virus Replication']"
        ],
        [
         "4",
         "27213782",
         "2016",
         "Meta-Analysis of Dengue Severity during Infection by Different Dengue Virus Serotypes in Primary and Secondary Infections.",
         "INTRODUCTION: Dengue virus (DENV) infection is currently a major cause of morbidity and mortality in the world; it has become more common and virulent over the past half-century and has gained much attention. Thus, this review compared the percentage of severe cases of both primary and secondary infections with different serotypes of dengue virus. METHODS: Data related to the number of cases involving dengue fever (DF), dengue hemorrhagic fever (DHF), dengue shock syndrome (DSS) or severe dengue infections caused by different serotypes of dengue virus were obtained by using the SCOPUS, the PUBMED and the OVID search engines with the keywords \"(dengue* OR dengue virus*) AND (severe dengue* OR severity of illness index* OR severity* OR DF* OR DHF* OR DSS*) AND (serotypes* OR serogroup*)\", according to the MESH terms suggested by PUBMED and OVID. RESULTS: Approximately 31 studies encompassing 15,741 cases reporting on the dengue serotypes together with their severity were obtained, and meta-analysis was carried out to analyze the data. This study found that DENV-3 from the Southeast Asia (SEA) region displayed the greatest percentage of severe cases in primary infection (95% confidence interval (CI), 31.22-53.67, 9 studies, n = 598, I2 = 71.53%), whereas DENV-2, DENV-3, and DENV-4 from the SEA region, as well as DENV-2 and DENV-3 from non-SEA regions, exhibited the greatest percentage of severe cases in secondary infection (95% CI, 11.64-80.89, 4-14 studies, n = 668-3,149, I2 = 14.77-96.20%). Moreover, DENV-2 and DENV-4 from the SEA region had been found to be more highly associated with dengue shock syndrome (DSS) (95% CI, 10.47-40.24, 5-8 studies, n = 642-2,530, I2 = 76.93-97.70%), while DENV-3 and DENV-4 from the SEA region were found to be more highly associated with dengue hemorrhagic fever (DHF) (95% CI, 31.86-54.58, 9 studies, n = 674-2,278, I2 = 55.74-88.47%), according to the 1997 WHO dengue classification. Finally, DENV-2 and DENV-4 from the SEA region were discovered to be more highly associated with secondary infection compared to other serotypes (95% CI, 72.01-96.32, 9-12 studies, n = 671-2,863, I2 = 25.01-96.75%). CONCLUSION: This study provides evidence that the presence of certain serotypes, including primary infection with DENV-3 from the SEA region and secondary infection with DENV-2, DENV-3, and DENV-4 also from the SEA region, as well as DENV-2 and DENV-3 from non SEA regions, increased the risk of severe dengue infections. Thus, these serotypes are worthy of special consideration when making clinical predictions upon the severity of the infection. SYSTEMATIC REVIEW REGISTRATION: PROSPERO CRD42015026093 (http://www.crd.york.ac.uk/PROSPERO). Sciences, Universiti Putra Malaysia, Serdang, Selangor, Malaysia. Malaysia, Serdang, Selangor, Malaysia. Universiti Putra Malaysia, Serdang, Selangor, Malaysia. Malaysia. Sciences, Universiti Putra Malaysia, Serdang, Selangor, Malaysia.",
         "['Dengue/*virology', 'Dengue Virus/*classification/genetics/immunology', 'Humans', 'Molecular Typing', 'Recurrence', 'Serogroup', 'Severe Dengue/*virology', 'Severity of Illness Index']"
        ]
       ],
       "shape": {
        "columns": 5,
        "rows": 5
       }
      },
      "text/html": [
       "<div>\n",
       "<style scoped>\n",
       "    .dataframe tbody tr th:only-of-type {\n",
       "        vertical-align: middle;\n",
       "    }\n",
       "\n",
       "    .dataframe tbody tr th {\n",
       "        vertical-align: top;\n",
       "    }\n",
       "\n",
       "    .dataframe thead th {\n",
       "        text-align: right;\n",
       "    }\n",
       "</style>\n",
       "<table border=\"1\" class=\"dataframe\">\n",
       "  <thead>\n",
       "    <tr style=\"text-align: right;\">\n",
       "      <th></th>\n",
       "      <th>PMID</th>\n",
       "      <th>Date of Publication</th>\n",
       "      <th>Title</th>\n",
       "      <th>Abstract</th>\n",
       "      <th>MeSH</th>\n",
       "    </tr>\n",
       "  </thead>\n",
       "  <tbody>\n",
       "    <tr>\n",
       "      <th>0</th>\n",
       "      <td>19822889</td>\n",
       "      <td>2009 Oct</td>\n",
       "      <td>Dengue virus pathogenesis: an integrated view.</td>\n",
       "      <td>Much remains to be learned about the pathogene...</td>\n",
       "      <td>[Dengue/pathology/*virology, Dengue Virus/path...</td>\n",
       "    </tr>\n",
       "    <tr>\n",
       "      <th>1</th>\n",
       "      <td>30301880</td>\n",
       "      <td>2018 Oct 10</td>\n",
       "      <td>Dengue virus and the host innate immune response.</td>\n",
       "      <td>Dengue virus (DENV) is a mosquito-borne Flaviv...</td>\n",
       "      <td>[Animals, Antibodies, Viral/immunology, Dengue...</td>\n",
       "    </tr>\n",
       "    <tr>\n",
       "      <th>2</th>\n",
       "      <td>34696397</td>\n",
       "      <td>2021 Sep 30</td>\n",
       "      <td>Dengue Virus Infection: A Tale of Viral Exploi...</td>\n",
       "      <td>Dengue is a mosquito-borne viral disease (arbo...</td>\n",
       "      <td>[Antibodies, Viral/immunology, Dengue/*metabol...</td>\n",
       "    </tr>\n",
       "    <tr>\n",
       "      <th>3</th>\n",
       "      <td>32751561</td>\n",
       "      <td>2020 Jul 30</td>\n",
       "      <td>Dengue: A Minireview.</td>\n",
       "      <td>Dengue, caused by infection of any of four den...</td>\n",
       "      <td>[Aedes/virology, Animals, *Dengue/epidemiology...</td>\n",
       "    </tr>\n",
       "    <tr>\n",
       "      <th>4</th>\n",
       "      <td>27213782</td>\n",
       "      <td>2016</td>\n",
       "      <td>Meta-Analysis of Dengue Severity during Infect...</td>\n",
       "      <td>INTRODUCTION: Dengue virus (DENV) infection is...</td>\n",
       "      <td>[Dengue/*virology, Dengue Virus/*classificatio...</td>\n",
       "    </tr>\n",
       "  </tbody>\n",
       "</table>\n",
       "</div>"
      ],
      "text/plain": [
       "       PMID Date of Publication  \\\n",
       "0  19822889            2009 Oct   \n",
       "1  30301880         2018 Oct 10   \n",
       "2  34696397         2021 Sep 30   \n",
       "3  32751561         2020 Jul 30   \n",
       "4  27213782                2016   \n",
       "\n",
       "                                               Title  \\\n",
       "0     Dengue virus pathogenesis: an integrated view.   \n",
       "1  Dengue virus and the host innate immune response.   \n",
       "2  Dengue Virus Infection: A Tale of Viral Exploi...   \n",
       "3                              Dengue: A Minireview.   \n",
       "4  Meta-Analysis of Dengue Severity during Infect...   \n",
       "\n",
       "                                            Abstract  \\\n",
       "0  Much remains to be learned about the pathogene...   \n",
       "1  Dengue virus (DENV) is a mosquito-borne Flaviv...   \n",
       "2  Dengue is a mosquito-borne viral disease (arbo...   \n",
       "3  Dengue, caused by infection of any of four den...   \n",
       "4  INTRODUCTION: Dengue virus (DENV) infection is...   \n",
       "\n",
       "                                                MeSH  \n",
       "0  [Dengue/pathology/*virology, Dengue Virus/path...  \n",
       "1  [Animals, Antibodies, Viral/immunology, Dengue...  \n",
       "2  [Antibodies, Viral/immunology, Dengue/*metabol...  \n",
       "3  [Aedes/virology, Animals, *Dengue/epidemiology...  \n",
       "4  [Dengue/*virology, Dengue Virus/*classificatio...  "
      ]
     },
     "execution_count": 8,
     "metadata": {},
     "output_type": "execute_result"
    }
   ],
   "source": [
    "sample.head()"
   ]
  },
  {
   "cell_type": "code",
   "execution_count": null,
   "metadata": {},
   "outputs": [
    {
     "name": "stderr",
     "output_type": "stream",
     "text": [
      "Segmenting Sentences:  88%|████████▊ | 8426/9559 [05:51<00:50, 22.55it/s]"
     ]
    }
   ],
   "source": [
    "subset_df = segment_sentences(samples=sample,output_path=output_path)"
   ]
  }
 ],
 "metadata": {
  "kernelspec": {
   "display_name": "d3n",
   "language": "python",
   "name": "python3"
  },
  "language_info": {
   "codemirror_mode": {
    "name": "ipython",
    "version": 3
   },
   "file_extension": ".py",
   "mimetype": "text/x-python",
   "name": "python",
   "nbconvert_exporter": "python",
   "pygments_lexer": "ipython3",
   "version": "3.11.5"
  }
 },
 "nbformat": 4,
 "nbformat_minor": 2
}

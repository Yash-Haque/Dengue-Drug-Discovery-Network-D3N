{
 "cells": [
  {
   "cell_type": "markdown",
   "metadata": {},
   "source": [
    "## Imports"
   ]
  },
  {
   "cell_type": "code",
   "execution_count": 13,
   "metadata": {},
   "outputs": [],
   "source": [
    "import ollama\n",
    "from IPython.display import display, Markdown\n",
    "import pandas as pd\n",
    "from dataclasses import dataclass\n",
    "from typing import List, Tuple\n",
    "from collections import defaultdict"
   ]
  },
  {
   "cell_type": "markdown",
   "metadata": {},
   "source": [
    "## Data Loading"
   ]
  },
  {
   "cell_type": "code",
   "execution_count": null,
   "metadata": {},
   "outputs": [
    {
     "data": {
      "application/vnd.microsoft.datawrangler.viewer.v0+json": {
       "columns": [
        {
         "name": "index",
         "rawType": "int64",
         "type": "integer"
        },
        {
         "name": "pmid",
         "rawType": "int64",
         "type": "integer"
        },
        {
         "name": "sent_no",
         "rawType": "int64",
         "type": "integer"
        },
        {
         "name": "entity_no",
         "rawType": "int64",
         "type": "integer"
        },
        {
         "name": "sent_iter_no",
         "rawType": "int64",
         "type": "integer"
        },
        {
         "name": "text",
         "rawType": "object",
         "type": "string"
        },
        {
         "name": "text_with_entity_marker",
         "rawType": "object",
         "type": "string"
        },
        {
         "name": "entity_1",
         "rawType": "object",
         "type": "string"
        },
        {
         "name": "entity_1_idx",
         "rawType": "object",
         "type": "string"
        },
        {
         "name": "entity_1_type",
         "rawType": "object",
         "type": "string"
        },
        {
         "name": "entity_2",
         "rawType": "object",
         "type": "string"
        },
        {
         "name": "entity_2_idx",
         "rawType": "object",
         "type": "string"
        },
        {
         "name": "entity_2_type",
         "rawType": "object",
         "type": "string"
        },
        {
         "name": "relation_id",
         "rawType": "int64",
         "type": "integer"
        },
        {
         "name": "relation_type",
         "rawType": "object",
         "type": "string"
        },
        {
         "name": "directed",
         "rawType": "bool",
         "type": "boolean"
        },
        {
         "name": "reversed",
         "rawType": "bool",
         "type": "boolean"
        }
       ],
       "conversionMethod": "pd.DataFrame",
       "ref": "2e0aaf6b-1f1a-4094-bc1e-8d2165e23c8e",
       "rows": [
        [
         "0",
         "11893341",
         "4",
         "3",
         "0",
         "The structure suggests that flaviviruses, and by analogy also alphaviruses, employ a fusion mechanism in which the distal beta barrels of domain II of the glycoprotein E are inserted into the cellular membrane.",
         "The structure suggests that flaviviruses, and by analogy also alphaviruses, employ a fusion mechanism in which the [E1]distal beta barrels [/E1]of [E2]domain II [/E2]of the glycoprotein E are inserted into the cellular membrane.",
         "distal beta barrels",
         "[115, 135]",
         "@PROTEIN",
         "domain II",
         "[138, 148]",
         "@PROTEIN",
         "2",
         "structural",
         "False",
         "False"
        ],
        [
         "1",
         "23389466",
         "3",
         "3",
         "0",
         "DENV binds to its receptor molecules mediated through a viral envelope (E) protein, followed by incorporation of the virus-receptor complex inside cells.",
         "DENV binds to its [E1]receptor molecules [/E1]mediated through a [E2]viral envelope (E) protein,[/E2] followed by incorporation of the virus-receptor complex inside cells.",
         "receptor molecules",
         "[18, 37]",
         "@PROTEIN",
         "viral envelope (E) protein,",
         "[56, 83]",
         "@PROTEIN",
         "2",
         "structural",
         "False",
         "False"
        ],
        [
         "2",
         "23389466",
         "3",
         "3",
         "1",
         "DENV binds to its receptor molecules mediated through a viral envelope (E) protein, followed by incorporation of the virus-receptor complex inside cells.",
         "DENV binds to its [E1]receptor molecules [/E1]mediated through a viral envelope (E) protein, followed by incorporation of the [E2]virus-receptor complex [/E2]inside cells.",
         "receptor molecules",
         "[18, 37]",
         "@PROTEIN",
         "virus-receptor complex",
         "[117, 140]",
         "@PROTEIN",
         "2",
         "structural",
         "False",
         "False"
        ],
        [
         "3",
         "23389466",
         "3",
         "3",
         "2",
         "DENV binds to its receptor molecules mediated through a viral envelope (E) protein, followed by incorporation of the virus-receptor complex inside cells.",
         "DENV binds to its receptor molecules mediated through a [E1]viral envelope (E) protein,[/E1] followed by incorporation of the [E2]virus-receptor complex [/E2]inside cells.",
         "viral envelope (E) protein,",
         "[56, 83]",
         "@PROTEIN",
         "virus-receptor complex",
         "[117, 140]",
         "@PROTEIN",
         "2",
         "structural",
         "False",
         "False"
        ],
        [
         "4",
         "25157370",
         "8",
         "3",
         "0",
         "The viral entry process is mediated by viral proteins and cellular receptor molecules that end up in the endocytosis of the virion, the fusion of both membranes, and the release of viral RNA in the cytoplasm.",
         "The viral entry process is mediated by [E1]viral proteins [/E1]and [E2]cellular receptor molecules [/E2]that end up in the endocytosis of the virion, the fusion of both membranes, and the release of viral RNA in the cytoplasm.",
         "viral proteins",
         "[39, 54]",
         "@PROTEIN",
         "cellular receptor molecules",
         "[58, 86]",
         "@PROTEIN",
         "2",
         "structural",
         "False",
         "False"
        ]
       ],
       "shape": {
        "columns": 16,
        "rows": 5
       }
      },
      "text/html": [
       "<div>\n",
       "<style scoped>\n",
       "    .dataframe tbody tr th:only-of-type {\n",
       "        vertical-align: middle;\n",
       "    }\n",
       "\n",
       "    .dataframe tbody tr th {\n",
       "        vertical-align: top;\n",
       "    }\n",
       "\n",
       "    .dataframe thead th {\n",
       "        text-align: right;\n",
       "    }\n",
       "</style>\n",
       "<table border=\"1\" class=\"dataframe\">\n",
       "  <thead>\n",
       "    <tr style=\"text-align: right;\">\n",
       "      <th></th>\n",
       "      <th>pmid</th>\n",
       "      <th>sent_no</th>\n",
       "      <th>entity_no</th>\n",
       "      <th>sent_iter_no</th>\n",
       "      <th>text</th>\n",
       "      <th>text_with_entity_marker</th>\n",
       "      <th>entity_1</th>\n",
       "      <th>entity_1_idx</th>\n",
       "      <th>entity_1_type</th>\n",
       "      <th>entity_2</th>\n",
       "      <th>entity_2_idx</th>\n",
       "      <th>entity_2_type</th>\n",
       "      <th>relation_id</th>\n",
       "      <th>relation_type</th>\n",
       "      <th>directed</th>\n",
       "      <th>reversed</th>\n",
       "    </tr>\n",
       "  </thead>\n",
       "  <tbody>\n",
       "    <tr>\n",
       "      <th>0</th>\n",
       "      <td>11893341</td>\n",
       "      <td>4</td>\n",
       "      <td>3</td>\n",
       "      <td>0</td>\n",
       "      <td>The structure suggests that flaviviruses, and ...</td>\n",
       "      <td>The structure suggests that flaviviruses, and ...</td>\n",
       "      <td>distal beta barrels</td>\n",
       "      <td>[115, 135]</td>\n",
       "      <td>@PROTEIN</td>\n",
       "      <td>domain II</td>\n",
       "      <td>[138, 148]</td>\n",
       "      <td>@PROTEIN</td>\n",
       "      <td>2</td>\n",
       "      <td>structural</td>\n",
       "      <td>False</td>\n",
       "      <td>False</td>\n",
       "    </tr>\n",
       "    <tr>\n",
       "      <th>1</th>\n",
       "      <td>23389466</td>\n",
       "      <td>3</td>\n",
       "      <td>3</td>\n",
       "      <td>0</td>\n",
       "      <td>DENV binds to its receptor molecules mediated ...</td>\n",
       "      <td>DENV binds to its [E1]receptor molecules [/E1]...</td>\n",
       "      <td>receptor molecules</td>\n",
       "      <td>[18, 37]</td>\n",
       "      <td>@PROTEIN</td>\n",
       "      <td>viral envelope (E) protein,</td>\n",
       "      <td>[56, 83]</td>\n",
       "      <td>@PROTEIN</td>\n",
       "      <td>2</td>\n",
       "      <td>structural</td>\n",
       "      <td>False</td>\n",
       "      <td>False</td>\n",
       "    </tr>\n",
       "    <tr>\n",
       "      <th>2</th>\n",
       "      <td>23389466</td>\n",
       "      <td>3</td>\n",
       "      <td>3</td>\n",
       "      <td>1</td>\n",
       "      <td>DENV binds to its receptor molecules mediated ...</td>\n",
       "      <td>DENV binds to its [E1]receptor molecules [/E1]...</td>\n",
       "      <td>receptor molecules</td>\n",
       "      <td>[18, 37]</td>\n",
       "      <td>@PROTEIN</td>\n",
       "      <td>virus-receptor complex</td>\n",
       "      <td>[117, 140]</td>\n",
       "      <td>@PROTEIN</td>\n",
       "      <td>2</td>\n",
       "      <td>structural</td>\n",
       "      <td>False</td>\n",
       "      <td>False</td>\n",
       "    </tr>\n",
       "    <tr>\n",
       "      <th>3</th>\n",
       "      <td>23389466</td>\n",
       "      <td>3</td>\n",
       "      <td>3</td>\n",
       "      <td>2</td>\n",
       "      <td>DENV binds to its receptor molecules mediated ...</td>\n",
       "      <td>DENV binds to its receptor molecules mediated ...</td>\n",
       "      <td>viral envelope (E) protein,</td>\n",
       "      <td>[56, 83]</td>\n",
       "      <td>@PROTEIN</td>\n",
       "      <td>virus-receptor complex</td>\n",
       "      <td>[117, 140]</td>\n",
       "      <td>@PROTEIN</td>\n",
       "      <td>2</td>\n",
       "      <td>structural</td>\n",
       "      <td>False</td>\n",
       "      <td>False</td>\n",
       "    </tr>\n",
       "    <tr>\n",
       "      <th>4</th>\n",
       "      <td>25157370</td>\n",
       "      <td>8</td>\n",
       "      <td>3</td>\n",
       "      <td>0</td>\n",
       "      <td>The viral entry process is mediated by viral p...</td>\n",
       "      <td>The viral entry process is mediated by [E1]vir...</td>\n",
       "      <td>viral proteins</td>\n",
       "      <td>[39, 54]</td>\n",
       "      <td>@PROTEIN</td>\n",
       "      <td>cellular receptor molecules</td>\n",
       "      <td>[58, 86]</td>\n",
       "      <td>@PROTEIN</td>\n",
       "      <td>2</td>\n",
       "      <td>structural</td>\n",
       "      <td>False</td>\n",
       "      <td>False</td>\n",
       "    </tr>\n",
       "  </tbody>\n",
       "</table>\n",
       "</div>"
      ],
      "text/plain": [
       "       pmid  sent_no  entity_no  sent_iter_no  \\\n",
       "0  11893341        4          3             0   \n",
       "1  23389466        3          3             0   \n",
       "2  23389466        3          3             1   \n",
       "3  23389466        3          3             2   \n",
       "4  25157370        8          3             0   \n",
       "\n",
       "                                                text  \\\n",
       "0  The structure suggests that flaviviruses, and ...   \n",
       "1  DENV binds to its receptor molecules mediated ...   \n",
       "2  DENV binds to its receptor molecules mediated ...   \n",
       "3  DENV binds to its receptor molecules mediated ...   \n",
       "4  The viral entry process is mediated by viral p...   \n",
       "\n",
       "                             text_with_entity_marker  \\\n",
       "0  The structure suggests that flaviviruses, and ...   \n",
       "1  DENV binds to its [E1]receptor molecules [/E1]...   \n",
       "2  DENV binds to its [E1]receptor molecules [/E1]...   \n",
       "3  DENV binds to its receptor molecules mediated ...   \n",
       "4  The viral entry process is mediated by [E1]vir...   \n",
       "\n",
       "                      entity_1 entity_1_idx entity_1_type  \\\n",
       "0          distal beta barrels   [115, 135]      @PROTEIN   \n",
       "1           receptor molecules     [18, 37]      @PROTEIN   \n",
       "2           receptor molecules     [18, 37]      @PROTEIN   \n",
       "3  viral envelope (E) protein,     [56, 83]      @PROTEIN   \n",
       "4               viral proteins     [39, 54]      @PROTEIN   \n",
       "\n",
       "                      entity_2 entity_2_idx entity_2_type  relation_id  \\\n",
       "0                    domain II   [138, 148]      @PROTEIN            2   \n",
       "1  viral envelope (E) protein,     [56, 83]      @PROTEIN            2   \n",
       "2       virus-receptor complex   [117, 140]      @PROTEIN            2   \n",
       "3       virus-receptor complex   [117, 140]      @PROTEIN            2   \n",
       "4  cellular receptor molecules     [58, 86]      @PROTEIN            2   \n",
       "\n",
       "  relation_type  directed  reversed  \n",
       "0    structural     False     False  \n",
       "1    structural     False     False  \n",
       "2    structural     False     False  \n",
       "3    structural     False     False  \n",
       "4    structural     False     False  "
      ]
     },
     "execution_count": 5,
     "metadata": {},
     "output_type": "execute_result"
    }
   ],
   "source": [
    "ppi_filtered = \"D:/CSE498R_Resources/D3N/Dengue-Drug-Discovery-Network-D3N/Data/d3n_processed_data/ppi_filtered.csv\"\n",
    "ppi_filtered_df = pd.read_csv(ppi_filtered)\n",
    "ppi_filtered_df.head()"
   ]
  },
  {
   "cell_type": "markdown",
   "metadata": {},
   "source": [
    "## Dataclass and Util Functions"
   ]
  },
  {
   "cell_type": "code",
   "execution_count": null,
   "metadata": {},
   "outputs": [],
   "source": [
    "@dataclass\n",
    "class LLMData:\n",
    "    pmid: str\n",
    "    sentence_no: int\n",
    "    sentence: str\n",
    "    entities: List[Tuple[str, str]]  # List of (entity_name, entity_type)\n",
    "    relations: list\n",
    "\n",
    "\n",
    "def merge_entities(df):\n",
    "    grouped_data = defaultdict(lambda: {\"sentence\": \"\", \"entities\": [], \"relations\": []})\n",
    "    \n",
    "    for _, row in df.iterrows():\n",
    "        key = (row[\"pmid\"], row[\"sent_no\"])\n",
    "        grouped_data[key][\"sentence\"] = row[\"text\"]\n",
    "        grouped_data[key][\"entities\"].append((row[\"entity_1\"], row[\"entity_1_type\"]))\n",
    "        grouped_data[key][\"entities\"].append((row[\"entity_2\"], row[\"entity_2_type\"]))\n",
    "        grouped_data[key][\"relations\"].append(row[\"relation_type\"])\n",
    "    \n",
    "    llm_data_list = [LLMData(pmid=key[0], sentence_no=key[1], sentence=value[\"sentence\"], \n",
    "                             entities=value[\"entities\"], relations=value[\"relations\"]) \n",
    "                     for key, value in grouped_data.items()]\n",
    "    \n",
    "    return llm_data_list"
   ]
  },
  {
   "cell_type": "code",
   "execution_count": 22,
   "metadata": {},
   "outputs": [
    {
     "name": "stdout",
     "output_type": "stream",
     "text": [
      "LLMData(pmid=11893341, sentence_no=4, sentence='The structure suggests that flaviviruses, and by analogy also alphaviruses, employ a fusion mechanism in which the distal beta barrels of domain II of the glycoprotein E are inserted into the cellular membrane.', entities=[('distal beta barrels', '@PROTEIN'), ('domain II', '@PROTEIN')], relations=['structural'])\n",
      "LLMData(pmid=23389466, sentence_no=3, sentence='DENV binds to its receptor molecules mediated through a viral envelope (E) protein, followed by incorporation of the virus-receptor complex inside cells.', entities=[('receptor molecules', '@PROTEIN'), ('viral envelope (E) protein,', '@PROTEIN'), ('receptor molecules', '@PROTEIN'), ('virus-receptor complex', '@PROTEIN'), ('viral envelope (E) protein,', '@PROTEIN'), ('virus-receptor complex', '@PROTEIN')], relations=['structural', 'structural', 'structural'])\n",
      "LLMData(pmid=25157370, sentence_no=8, sentence='The viral entry process is mediated by viral proteins and cellular receptor molecules that end up in the endocytosis of the virion, the fusion of both membranes, and the release of viral RNA in the cytoplasm.', entities=[('viral proteins', '@PROTEIN'), ('cellular receptor molecules', '@PROTEIN')], relations=['structural'])\n"
     ]
    }
   ],
   "source": [
    "structured_ppi = merge_entities(ppi_filtered_df)\n",
    "\n",
    "for item in structured_ppi[:3]:\n",
    "    print(item)"
   ]
  },
  {
   "cell_type": "markdown",
   "metadata": {},
   "source": [
    "### Previous Prompt Template"
   ]
  },
  {
   "cell_type": "code",
   "execution_count": null,
   "metadata": {},
   "outputs": [],
   "source": [
    "prompt = f\"\"\"\n",
    "Context:\n",
    "I am analyzing biomedical literature to identify biological interactions between predefined entities, including PROTEIN, RNA, DNA, CELL_LINE, and CELL_TYPE.\n",
    "Given a sentence containing two entities, your task is to determine their interaction based on the sentence’s context.\n",
    "\n",
    "Task:\n",
    "Identify the type of interaction between the two given entities.\n",
    "\n",
    "Entities in the sentence:\n",
    "- {entity_1} ({entity_1_type})\n",
    "- {entity_2} ({entity_2_type})\n",
    "\n",
    "Input Sentence:\n",
    "\"{sentence}\"\n",
    "\n",
    "Label the interaction using one of the following specific categories:\n",
    "- **Protein-Protein Interactions (PPIs):** Binding, Phosphorylation, Ubiquitination, Cleavage, Inhibition, Activation, Transport, Aggregation, Structural Support.\n",
    "- **Gene Interactions (GIs):** Transcriptional Activation, Transcriptional Repression, Splicing Regulation, Translation Inhibition, Translation Enhancement, Epigenetic Modification, RNA Stability Regulation.\n",
    "- **Metabolic & Signaling Interactions:** Signal Transduction, Metabolic Catalysis, Feedback Inhibition, Co-factor Association.\n",
    "- **Cell Line Interactions:** Proliferation Increase, Proliferation Inhibition, Apoptosis Induction, Cell Cycle Arrest, Drug Sensitivity, Mutation-Induced Resistance, Adhesion Loss, Invasion Enhancement, Immune Evasion.\n",
    "- **Other Cases:** Competitive Binding, No Known Interaction, Contradictory Evidence.\n",
    "\n",
    "Output Format:\n",
    "- **Entities:** {entity_1} ({entity_1_type}), {entity_2} ({entity_2_type})\n",
    "- **Interaction Type:** [Predicted Interaction Type]\n",
    "- **Justification:** [Brief explanation based on the sentence]\n",
    "\n",
    "If an interaction is unclear, respond with \"Uncertain\" and explain why.\n",
    "If no known interaction exists, label it as \"No Known Interaction\".\n",
    "DO NOT hallucinate interactions—strictly rely on the given sentence.\n",
    "\"\"\""
   ]
  },
  {
   "cell_type": "code",
   "execution_count": null,
   "metadata": {},
   "outputs": [],
   "source": [
    "\n",
    "# def format_prompt(sentence, entity_1, entity_1_type, entity_2, entity_2_type, relation_type):\n",
    "def format_prompt(LLMData):\n",
    "    \"\"\"\n",
    "    Formats the prompt following the structured format optimized for Gemma:2b.\n",
    "    \"\"\"\n",
    "    interaction_note = \"If no known interaction exists or if the interaction is inhibitory, classify it as 'negative'.\" if LLMData.relation_type == \"negative\" else \"\"\n",
    "    \n",
    "    prompt = f\"\"\"\n",
    "    [INPUT]\n",
    "    {sentence}\n",
    "    \n",
    "    [CONTEXT]\n",
    "    Entities: [E1]={entity_1} ({entity_1_type}), [E2]={entity_2} ({entity_2_type}).\n",
    "    Choose a relation type from the options: \"bind\", \"suppress\", \"inhibit\", \"activate\", \"transcribe\", \"metabolize\", etc.\n",
    "    If uncertain, respond with \"Uncertain\".\n",
    "    If no known interaction exists, label it as \"No Known Interaction\".\n",
    "    \n",
    "    [EXAMPLE]\n",
    "    Question: What is the relation between Entity 1 and Entity 2?\n",
    "    Entity 1: antibodies\n",
    "    Entity 2: 37kD/48-kDa high-affinity laminin receptor\n",
    "    Answer: (antibodies, bind, 37kD/48-kDa high-affinity laminin receptor)\n",
    "    \n",
    "    [QUESTION]\n",
    "    What is the relation between Entity 1 and Entity 2?\n",
    "    Entity 1: {entity_1}\n",
    "    Entity 2: {entity_2}\n",
    "    \n",
    "    [OUTPUT INSTRUCTION]\n",
    "    Provide the response in this format: (Entity 1, Relation, Entity 2)\n",
    "    {interaction_note}\n",
    "    \"\"\"\n",
    "    return prompt"
   ]
  },
  {
   "cell_type": "code",
   "execution_count": null,
   "metadata": {},
   "outputs": [
    {
     "name": "stdout",
     "output_type": "stream",
     "text": [
      "<class 'ollama._types.ChatResponse'>\n"
     ]
    },
    {
     "data": {
      "text/markdown": [
       "**Prompt:**\n",
       "```\n",
       "You are an AI Assistant. Answer the following question concisely.\n",
       "Question: What is the capital of France? \n",
       "Answer:\n",
       "```\n",
       "**Response:** The capital of France is Paris. It is the political, economic, and cultural center of France."
      ],
      "text/plain": [
       "<IPython.core.display.Markdown object>"
      ]
     },
     "metadata": {},
     "output_type": "display_data"
    }
   ],
   "source": [
    "def format_prompt(template, **kwargs):\n",
    "    \"\"\"Formats a template with provided keyword arguments\"\"\"\n",
    "    return template.format(**kwargs)\n",
    "\n",
    "templates = {\n",
    "    \"qa\":\"You are an AI Assistant. Answer the following question concisely.\\nQuestion: {question} \\nAnswer:\",\n",
    "    \"summarize\": \"Summarize the following text: \\n{text} \\nSummary:\",\n",
    "    \"d3n\":\n",
    "}\n",
    "\n",
    "\n",
    "\n",
    "\n",
    "# Function to interact with local LLM\n",
    "def chat_with_llm(model, template_name, **kwargs):\n",
    "    if template_name not in templates:\n",
    "        raise ValueError(f\"Template '{template_name}' not found.\")\n",
    "    \n",
    "    # prompt = format_prompt(templates[template_name], **kwargs)\n",
    "    response = ollama.chat(model=model, messages=[{\"role\": \"user\", \"content\": prompt}])\n",
    "\n",
    "    # Debug: Print the response structure\n",
    "    print((response.name))\n",
    "\n",
    "    # Adjust key access based on response format\n",
    "    if 'message' in response and 'content' in response['message']:\n",
    "        response_text = response['message']['content']\n",
    "    elif 'response' in response:  # Alternative key structure\n",
    "        response_text = response['response']\n",
    "    else:\n",
    "        response_text = \"Error: Unexpected response format.\"\n",
    "\n",
    "    display(Markdown(f\"**Prompt:**\\n```\\n{prompt}\\n```\\n**Response:** {response_text}\"))\n",
    "\n",
    "\n",
    "# Example usage\n",
    "model_name = \"gemma:2b\"  # Change this to your installed local model\n",
    "question = \"What is the capital of France?\"\n",
    "chat_with_llm(model_name, \"qa\", question=question)"
   ]
  }
 ],
 "metadata": {
  "kernelspec": {
   "display_name": "d3n",
   "language": "python",
   "name": "python3"
  },
  "language_info": {
   "codemirror_mode": {
    "name": "ipython",
    "version": 3
   },
   "file_extension": ".py",
   "mimetype": "text/x-python",
   "name": "python",
   "nbconvert_exporter": "python",
   "pygments_lexer": "ipython3",
   "version": "3.11.5"
  }
 },
 "nbformat": 4,
 "nbformat_minor": 2
}

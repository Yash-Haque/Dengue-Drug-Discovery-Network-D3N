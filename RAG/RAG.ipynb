{
 "cells": [
  {
   "cell_type": "code",
   "execution_count": 1,
   "metadata": {},
   "outputs": [],
   "source": [
    "import os\n",
    "import pandas as pd\n",
    "from langchain.docstore.document import Document"
   ]
  },
  {
   "cell_type": "code",
   "execution_count": 2,
   "metadata": {},
   "outputs": [],
   "source": [
    "csv_dir = os.path.join(os.getcwd(), \"data.csv\")\n",
    "df = pd.read_csv(csv_dir)"
   ]
  },
  {
   "cell_type": "code",
   "execution_count": 3,
   "metadata": {},
   "outputs": [],
   "source": [
    "documents = []\n",
    "for index, row in df.iterrows():\n",
    "    doc = Document(\n",
    "        page_content=row['Abstract'],\n",
    "        metadata={\n",
    "            'PMID': row['PMID'],\n",
    "            'Date of Publication': row['Date of Publication'],\n",
    "            'Title': row['Title'],\n",
    "            'MeSH': row['MeSH']\n",
    "        }\n",
    "    )\n",
    "    documents.append(doc)"
   ]
  },
  {
   "cell_type": "code",
   "execution_count": 4,
   "metadata": {},
   "outputs": [
    {
     "data": {
      "text/plain": [
       "929"
      ]
     },
     "execution_count": 4,
     "metadata": {},
     "output_type": "execute_result"
    }
   ],
   "source": [
    "len(documents)"
   ]
  },
  {
   "cell_type": "code",
   "execution_count": 5,
   "metadata": {},
   "outputs": [],
   "source": [
    "from langchain.text_splitter import RecursiveCharacterTextSplitter"
   ]
  },
  {
   "cell_type": "code",
   "execution_count": 6,
   "metadata": {},
   "outputs": [],
   "source": [
    "text_splitter = RecursiveCharacterTextSplitter(chunk_size=500, chunk_overlap=50)"
   ]
  },
  {
   "cell_type": "code",
   "execution_count": 7,
   "metadata": {},
   "outputs": [],
   "source": [
    "documents = text_splitter.split_documents(documents)"
   ]
  },
  {
   "cell_type": "code",
   "execution_count": 8,
   "metadata": {},
   "outputs": [
    {
     "data": {
      "text/plain": [
       "3477"
      ]
     },
     "execution_count": 8,
     "metadata": {},
     "output_type": "execute_result"
    }
   ],
   "source": [
    "len(documents)"
   ]
  },
  {
   "cell_type": "code",
   "execution_count": 9,
   "metadata": {},
   "outputs": [],
   "source": [
    "from langchain_community.embeddings import OllamaEmbeddings\n",
    "from langchain_community.vectorstores import Chroma"
   ]
  },
  {
   "cell_type": "code",
   "execution_count": 10,
   "metadata": {},
   "outputs": [],
   "source": [
    "persist_directory = \"database\"\n",
    "embedding = OllamaEmbeddings(model=\"gemma:2b\")\n",
    "db = Chroma.from_documents(documents=documents, embedding=embedding, persist_directory=persist_directory)"
   ]
  },
  {
   "cell_type": "code",
   "execution_count": 23,
   "metadata": {},
   "outputs": [
    {
     "data": {
      "text/plain": [
       "[Document(page_content='A widespread epidemic of dengue hemorrhagic fever (DHF) occurred in southern Vietnam in 1998, with 438.98 cases/100,000 population and 342 deaths. The number of DHF cases and deaths per 100,000 population increased 152.4% and 151.8%, respectively, over a 1997 epidemic. Dengue viruses were isolated from 143 patient blood samples; DEN-3 virus was identified as the predominant serotype, although a resurgence of DEN-4 was noted.', metadata={'Date of Publication': '2000 Jul-Aug', 'MeSH': \"['Adult', 'Antibodies, Viral/blood', 'Dengue Virus/classification/immunology/isolation & purification', '*Disease Outbreaks', 'Humans', 'Serotyping', 'Severe Dengue/*epidemiology/mortality/virology', 'Vietnam/epidemiology']\", 'PMID': 10905983, 'Title': 'Dengue epidemic in southern Vietnam, 1998.'}),\n",
       " Document(page_content='Clinical, haematologic, and demographic data were recorded. Of 210 dengue-suspected patients, 107 were confirmed. The disease manifested as Dengue Fever (62%), Dengue Haemorrhagic Fever (36%), and Dengue Shock Syndrome (2%). The serotypes of 94 DENV were determined. All DENV serotypes were detected with DENV-1 as the predominant serotype (66%). Genotypically, the DENV-1 viruses belong to Genotype I, DENV-2 was of Cosmopolitan genotype, DENV-3 as Genotype I, and DENV-4 belonged to Genotype II.', metadata={'Date of Publication': '2016 May', 'MeSH': \"['Amino Acid Sequence', 'Dengue/*epidemiology/physiopathology/*virology', 'Dengue Virus/chemistry/*genetics/*isolation & purification', 'Disease Outbreaks', 'Endemic Diseases', 'Epidemiological Monitoring', 'Evolution, Molecular', 'Female', 'Genes, Viral', 'Genotype', 'Humans', 'Indonesia/epidemiology', 'Male', 'Real-Time Polymerase Chain Reaction', 'Serotyping']\", 'PMID': 27215933, 'Title': 'The molecular and clinical features of dengue during outbreak in Jambi, Indonesia in 2015.'}),\n",
       " Document(page_content='in Brazil. Sequencing confirmed DENV-2 and DENV-3 (South-East/American) genotype III and (SriLanka/India), genotype III respectively.', metadata={'Date of Publication': '2006 Dec', 'MeSH': \"['Adult', 'Antibodies, Viral/blood', 'Brazil', 'Dengue/diagnosis/*virology', 'Dengue Virus/*classification/genetics/immunology', 'Fluorescent Antibody Technique, Indirect', 'Genotype', 'Humans', 'Male', 'RNA, Viral/analysis', 'Reverse Transcriptase Polymerase Chain Reaction', 'Serotyping']\", 'PMID': 17293990, 'Title': 'Concurrent infection with dengue virus type-2 and DENV-3 in a patient from Ceará, Brazil.'}),\n",
       " Document(page_content='were more frequently observed than secondary ones and most of them were classified as dengue. No differences on NS1 antigenemia and viraemia within the groups were observed. Despite the higher frequency of severe disease on individuals >65\\xa0years old, no differences were observed among the groups and type of infection. However, DENV-4 fatal cases were more frequent on secondary infections (57.1%). DENV-4 Genotype II was identified with a probable origin from Venezuela and Colombia. CONCLUSIONS:', metadata={'Date of Publication': '2017 Jun 9', 'MeSH': \"['Adolescent', 'Brazil/epidemiology', 'Child', 'Coinfection/epidemiology/virology', 'Dengue/*epidemiology/*etiology', 'Dengue Virus/classification/*genetics/*pathogenicity', 'Disease Outbreaks', 'Female', 'Genotype', 'Glycoproteins/immunology', 'Humans', 'Male', 'Phylogeny', 'Serogroup', 'Venezuela', 'Viral Nonstructural Proteins/immunology', 'Viremia/epidemiology']\", 'PMID': 28599640, 'Title': 'Dengue type 4 in Rio de Janeiro, Brazil: case characterization following its introduction in an endemic region.'})]"
      ]
     },
     "execution_count": 23,
     "metadata": {},
     "output_type": "execute_result"
    }
   ],
   "source": [
    "query=\"Dengue Flavivirus\"\n",
    "result = db.similarity_search(query)\n",
    "result"
   ]
  },
  {
   "cell_type": "code",
   "execution_count": 27,
   "metadata": {},
   "outputs": [],
   "source": [
    "from langchain_community.llms import Ollama\n",
    "from langchain_core.prompts import ChatPromptTemplate"
   ]
  },
  {
   "cell_type": "code",
   "execution_count": 26,
   "metadata": {},
   "outputs": [
    {
     "data": {
      "text/plain": [
       "Ollama(model='gemma:2b')"
      ]
     },
     "execution_count": 26,
     "metadata": {},
     "output_type": "execute_result"
    }
   ],
   "source": [
    "llm = Ollama(model=\"gemma:2b\")\n",
    "llm"
   ]
  },
  {
   "cell_type": "code",
   "execution_count": 69,
   "metadata": {},
   "outputs": [],
   "source": [
    "prompt = ChatPromptTemplate.from_template(\n",
    "    \"\"\"You will be answering Dengue medical questions using provided contexts. The provided contexts are abstracts from medical papers related to Dengue. Think comprehensively before providing an answer. \n",
    "    \n",
    "    Note: If you do not know something or cannot answer using the provided context just reply \"IDK\"\n",
    "    \n",
    "    <context>\n",
    "    {context}\n",
    "    </context>\n",
    "    \n",
    "    Question: {input}\n",
    "    \"\"\"\n",
    ")"
   ]
  },
  {
   "cell_type": "code",
   "execution_count": 70,
   "metadata": {},
   "outputs": [],
   "source": [
    "from langchain.chains.combine_documents import create_stuff_documents_chain\n",
    "from langchain.chains import create_retrieval_chain"
   ]
  },
  {
   "cell_type": "code",
   "execution_count": 76,
   "metadata": {},
   "outputs": [
    {
     "data": {
      "text/plain": [
       "VectorStoreRetriever(tags=['Chroma', 'OllamaEmbeddings'], vectorstore=<langchain_community.vectorstores.chroma.Chroma object at 0x0000017FCAE9A950>, search_type='mmr', search_kwargs={'k': 10})"
      ]
     },
     "execution_count": 76,
     "metadata": {},
     "output_type": "execute_result"
    }
   ],
   "source": [
    "doc_chain = create_stuff_documents_chain(llm, prompt)\n",
    "retriever = db.as_retriever(\n",
    "    search_type=\"mmr\",\n",
    "    search_kwargs={\"k\": 10}     \n",
    ")\n",
    "retriever"
   ]
  },
  {
   "cell_type": "code",
   "execution_count": 79,
   "metadata": {},
   "outputs": [],
   "source": [
    "retr_chain = create_retrieval_chain(retriever, doc_chain)"
   ]
  },
  {
   "cell_type": "code",
   "execution_count": 85,
   "metadata": {},
   "outputs": [
    {
     "data": {
      "text/plain": [
       "{'input': 'What are the antiviral effects of Interferon-inducible transmembrane proteins 1, 2 and 3 (IFITM1, IFITM2 and IFITM3)?',\n",
       " 'context': [Document(page_content='ZIKV genome biology and molecular pathogenesis. The ZIKV genome evolved rapidly from the Flavivirus genus and diverged from the members of this genus, even within the dengue virus cluster to which ZIKV belongs. Genome variations and divergences also exist among ZIKV strains/isolates. These genome divergences might account for the uniqueness of Zika disease. ZIKV infection activates not only the antiviral immune response but also the pro-inflammatory responses associated with disease symptoms.', metadata={'Date of Publication': '2017 Mar 22', 'MeSH': \"['Apoptosis', 'Cell Proliferation', 'Dengue Virus/genetics/*pathogenicity', 'Evolution, Molecular', 'Genetic Variation', '*Genome, Viral', 'Humans', 'Neuroglia/immunology/pathology', 'Phylogeny', 'Zika Virus Infection/immunology/*pathology']\", 'PMID': 28325921, 'Title': 'Zika virus genome biology and molecular pathogenesis.'}),\n",
       "  Document(page_content='of the biological characteristics of dengue virus and associated flaviviruses, and outline the progress on studies of vaccines and drugs based on potential targets of the dengue virus.', metadata={'Date of Publication': '2008 Feb', 'MeSH': \"['Antiviral Agents/isolation & purification/*therapeutic use', 'Dengue/*drug therapy/prevention & control/*virology', 'Dengue Vaccines/isolation & purification/pharmacology', 'Dengue Virus/*drug effects/genetics/pathogenicity/*physiology', '*Drug Design', 'Genome, Viral', 'Humans', 'Membrane Fusion', 'Viral Proteins/chemistry/genetics/physiology', 'Virus Assembly']\", 'PMID': 18235970, 'Title': 'Biological characteristics of dengue virus and potential targets for drug design.'}),\n",
       "  Document(page_content='or possibly pan-flavivirus therapeutic is feasible.', metadata={'Date of Publication': '2011 May 12', 'MeSH': \"['Animals', 'Antiviral Agents/chemistry/*pharmacology', 'Chlorocebus aethiops', 'Dengue Virus/*drug effects/enzymology/isolation & purification', 'Microbial Sensitivity Tests', 'Molecular Structure', 'Molecular Weight', 'Protease Inhibitors/chemistry/*pharmacology', 'RNA Helicases/antagonists & inhibitors/metabolism', 'Serine Endopeptidases/*metabolism', 'Structure-Activity Relationship', 'Vero Cells', 'Viral Nonstructural Proteins/*antagonists & inhibitors/metabolism', 'West Nile virus/*drug effects/enzymology/isolation & purification']\", 'PMID': 21566267, 'Title': 'Small molecule pan-dengue and West Nile virus NS3 protease inhibitors.'}),\n",
       "  Document(page_content='found that DENV infection could induce miR-30e* expression in DENV-permissive cells, and such an overexpression of miR-30e* upregulated IFN-β and the downstream IFN-stimulated genes (ISGs) such as OAS1, MxA and IFITM1, and suppressed DENV replication. Furthermore, suppression of IκBα mediates the enhancing effect of miR-30e* on IFN-β-induced antiviral response. Collectively, our findings suggest a modulatory role of miR-30e* in DENV induced IFN-β signaling via the NF-κB-dependent pathway.', metadata={'Date of Publication': '2014 Aug', 'MeSH': \"['Aedes/cytology', 'Animals', 'Cell Line', '*Dengue Virus/drug effects/immunology', 'Humans', 'Interferons/*metabolism', 'MicroRNAs/*pharmacology', 'NF-kappa B/*metabolism', 'Virus Replication/*drug effects']\", 'PMID': 25122182, 'Title': 'MicroRNA-30e* suppresses dengue virus replication by promoting NF-κB-dependent IFN production.'}),\n",
       "  Document(page_content='The four serotypes of the mature dengue virus can display different morphologies, including the compact spherical, the bumpy spherical and the non-spherical clubshape morphologies. In addition, the maturation process of dengue virus is inefficient and therefore some partially immature dengue virus particles have been observed and they are infectious. All these viral particles have different antigenicity profiles and thus may affect the type of the elicited antibodies during an immune response.', metadata={'Date of Publication': '2021 Jul 24', 'MeSH': \"['Antibodies, Neutralizing/immunology', 'Antibodies, Viral/immunology', 'Antibody-Dependent Enhancement', '*Antigenic Variation', 'Antigens, Viral/*chemistry/*genetics/immunology', 'Dengue/*virology', 'Dengue Vaccines/immunology', 'Dengue Virus/chemistry/classification/genetics/*immunology', 'Humans', 'Serogroup', 'Viral Envelope Proteins/genetics']\", 'PMID': 34452312, 'Title': 'Morphological Diversity and Dynamics of Dengue Virus Affecting Antigenicity.'}),\n",
       "  Document(page_content='a model in which the viral genome exists in at least two alternative conformations and the balance between these two states is critical for infectivity.', metadata={'Date of Publication': '2010 Dec', 'MeSH': \"['Base Sequence', 'Cells, Cultured', 'DNA, Circular/genetics/*physiology', 'DNA, Viral/chemistry/physiology', 'Dengue/genetics/pathology/virology', 'Dengue Virus/chemistry/*genetics/*physiology', '*Genome, Viral/physiology', 'Humans', 'Models, Biological', 'Molecular Sequence Data', 'Nucleic Acid Conformation', 'Phylogeny', 'Virus Replication/*genetics']\", 'PMID': 20980673, 'Title': 'A balance between circular and linear forms of the dengue virus genome is crucial for viral replication.'}),\n",
       "  Document(page_content='was found to be non-toxic to mammalian and insect cells. Thus DN59 inhibits flavivirus infectivity by interacting directly with virus particles resulting in release of the genomic RNA.', metadata={'Date of Publication': '2012', 'MeSH': \"['Amino Acid Sequence', 'Animals', 'Antiviral Agents/chemistry/pharmacology', 'Cell Line', 'Centrifugation, Density Gradient', 'Dengue Virus/*drug effects/*genetics/pathogenicity/ultrastructure', 'Genome, Viral/*genetics', 'Humans', 'Lipid Bilayers/metabolism', 'Molecular Sequence Data', 'Peptides/chemistry/*pharmacology', 'Viral Envelope Proteins/metabolism', 'Virion/drug effects/metabolism']\", 'PMID': 23226444, 'Title': 'Release of dengue virus genome induced by a peptide inhibitor.'}),\n",
       "  Document(page_content='in monkey leukocytes but did not enhance virus replication. None of the mitogens significantly affected virus replication in cultures of dengue-immune monkey peripheral blood leukocytes.', metadata={'Date of Publication': '1978 Jan', 'MeSH': \"['Animals', 'Cells, Cultured', 'Concanavalin A/pharmacology', 'Dengue Virus/*drug effects/growth & development', 'Haplorhini', 'Lectins/*pharmacology', 'Leukocytes/*microbiology', 'Macaca mulatta', 'Mitogens/pharmacology', 'Silicon Dioxide/pharmacology', 'Streptolysins/pharmacology', 'Virus Replication/*drug effects']\", 'PMID': 203535, 'Title': 'Phytohemagglutinin enhancement of dengue-2 virus replication in nonimmune rhesus monkey peripheral blood leukocytes.'}),\n",
       "  Document(page_content='Cardif regulates the initial type I IFN response in lymphoid tissues. In contrast, DENV viral loads in nonlymphoid tissues were similar between Cardif(-/-) and wild-type mice. These results reveal that RNA helicase-mediated sensing acts as a first line of innate defense against DENV infection in vivo and functions in a tissue-dependent manner.', metadata={'Date of Publication': '2009 Aug', 'MeSH': \"['Adaptor Proteins, Signal Transducing/genetics/*immunology', 'Animals', 'Dengue/*immunology/virology', 'Dengue Virus/genetics/*immunology/physiology', 'Humans', '*Immunity, Innate', 'Interferon Type I/immunology', 'Mice', 'Mice, Inbred C57BL', 'Mice, Knockout', '*Signal Transduction']\", 'PMID': 19494017, 'Title': 'Cardif-mediated signaling controls the initial innate response to dengue virus in vivo.'}),\n",
       "  Document(page_content=\"the presence of an intact SLA. We propose a novel mechanism for minus-strand RNA synthesis in which the viral polymerase binds SLA at the 5' end of the genome and reaches the site of initiation at the 3' end via long-range RNA-RNA interactions. These findings provide an explanation for the strict requirement of dengue virus genome cyclization during viral replication.\", metadata={'Date of Publication': '2006 Aug 15', 'MeSH': \"['Dengue Virus/*genetics/physiology', '*Genome, Viral', 'Microscopy, Atomic Force', 'Nucleic Acid Conformation', 'RNA, Viral/*biosynthesis/chemistry', 'RNA-Dependent RNA Polymerase/metabolism', 'Regulatory Sequences, Ribonucleic Acid/*physiology', 'Viral Nonstructural Proteins/metabolism', 'Virus Replication/*physiology']\", 'PMID': 16882970, 'Title': \"A 5' RNA element promotes dengue virus RNA synthesis on a circular genome.\"})],\n",
       " 'answer': 'The context does not provide any information about the antiviral effects of Interferon-inducible transmembrane proteins 1, 2 and 3 (IFITM1, IFITM2 and IFITM3), so I cannot answer this question from the provided context.'}"
      ]
     },
     "execution_count": 85,
     "metadata": {},
     "output_type": "execute_result"
    }
   ],
   "source": [
    "query = \"What are the antiviral effects of Interferon-inducible transmembrane proteins 1, 2 and 3 (IFITM1, IFITM2 and IFITM3)?\"\n",
    "retr_chain.invoke({\n",
    "    \"input\": query\n",
    "})"
   ]
  },
  {
   "cell_type": "code",
   "execution_count": null,
   "metadata": {},
   "outputs": [],
   "source": []
  }
 ],
 "metadata": {
  "kernelspec": {
   "display_name": "Python 3 (ipykernel)",
   "language": "python",
   "name": "python3"
  },
  "language_info": {
   "codemirror_mode": {
    "name": "ipython",
    "version": 3
   },
   "file_extension": ".py",
   "mimetype": "text/x-python",
   "name": "python",
   "nbconvert_exporter": "python",
   "pygments_lexer": "ipython3",
   "version": "3.11.5"
  }
 },
 "nbformat": 4,
 "nbformat_minor": 2
}
